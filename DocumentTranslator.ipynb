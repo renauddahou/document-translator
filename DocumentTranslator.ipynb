{
 "cells": [
  {
   "cell_type": "markdown",
   "metadata": {},
   "source": [
    "# 1.  Import Dependencies"
   ]
  },
  {
   "cell_type": "code",
   "execution_count": null,
   "metadata": {},
   "outputs": [],
   "source": [
    "!pip install opencv-python"
   ]
  },
  {
   "cell_type": "code",
   "execution_count": 15,
   "metadata": {},
   "outputs": [],
   "source": [
    "# Import opencv, os and time\n",
    "import cv2\n",
    "import os\n",
    "import time"
   ]
  },
  {
   "cell_type": "markdown",
   "metadata": {},
   "source": [
    "# 2. Define Document Properties"
   ]
  },
  {
   "cell_type": "code",
   "execution_count": 16,
   "metadata": {},
   "outputs": [
    {
     "name": "stdout",
     "output_type": "stream",
     "text": [
      "Document name: PoemadeChile\n",
      "Starting page: 122\n"
     ]
    }
   ],
   "source": [
    "# Give info to start collecting images from document\n",
    "doc_name = input(\"Document name: \")\n",
    "start_page = input(\"Starting page: \")"
   ]
  },
  {
   "cell_type": "markdown",
   "metadata": {},
   "source": [
    "# 3. Setup Folders"
   ]
  },
  {
   "cell_type": "code",
   "execution_count": 17,
   "metadata": {},
   "outputs": [],
   "source": [
    "# Set path to save images from document\n",
    "document_path = os.path.join(\"workspace\", \"documents_to_translate\")"
   ]
  },
  {
   "cell_type": "code",
   "execution_count": 18,
   "metadata": {},
   "outputs": [],
   "source": [
    "# Setup folder structure for chosen document\n",
    "if not os.path.exists(document_path):\n",
    "    !mkdir {document_path}\n",
    "path = os.path.join(document_path, doc_name)\n",
    "path_collection = os.path.join(path, \"collection\")\n",
    "path_translation = os.path.join(path, \"translation\")\n",
    "if not os.path.exists(path):\n",
    "    !mkdir {path}\n",
    "if not os.path.exists(path_collection):\n",
    "    !mkdir {path_collection}\n",
    "if not os.path.exists(path_translation):\n",
    "    !mkdir {path_translation}"
   ]
  },
  {
   "cell_type": "markdown",
   "metadata": {},
   "source": [
    "# 4. Collect Images from Document"
   ]
  },
  {
   "cell_type": "code",
   "execution_count": 19,
   "metadata": {
    "scrolled": true
   },
   "outputs": [
    {
     "name": "stdout",
     "output_type": "stream",
     "text": [
      "Press \"p\" to collect page, press \"q\" when ready...\n",
      "Collecting page 122...\n",
      "Page 122 saved!\n",
      "Collecting page 123...\n",
      "Page 123 saved!\n",
      "Collecting page 124...\n",
      "Finished collecting images.\n"
     ]
    }
   ],
   "source": [
    "# Address for IP Webcam, in order to use phone as webcam for higher resolution images\n",
    "address = \"http://192.168.178.32:8080/video\"\n",
    "\n",
    "# Set start page for correct page numbering\n",
    "current_page = int(start_page)\n",
    "\n",
    "print(\"Press \\\"p\\\" to collect page, press \\\"q\\\" when ready...\")\n",
    "print(f\"Collecting page {current_page}...\")\n",
    "\n",
    "# While loop for webcam streaming and image collection\n",
    "while True:\n",
    "    cap = cv2.VideoCapture(0)\n",
    "    cap.open(address)\n",
    "    ret, frame = cap.read()\n",
    "    # Resize frame in order to fit on laptop screen, can be altered for higher quality image collection\n",
    "    frame = cv2.resize(frame, (540, 960))\n",
    "    cv2.imshow('Webcam feed', frame)\n",
    "    # Set pagenum in order to save with correct numbering\n",
    "    pagenum = str(current_page).zfill(5)\n",
    "    # Set imgname for current page\n",
    "    imgname = os.path.join(path_collection, f\"{doc_name}_{pagenum}.jpg\")\n",
    "    # Give options for keystrokes - \"p\" for printing/collecting current frame, \"q\" to quit and break off loop\n",
    "    k = cv2.waitKey(1) & 0xFF\n",
    "    if k == ord(\"p\"):\n",
    "        cv2.imwrite(imgname, frame)\n",
    "        print(f\"Page {current_page} saved!\")\n",
    "        current_page += 1\n",
    "        # Print which page to collect next\n",
    "        print(f\"Collecting page {current_page}...\")\n",
    "        \n",
    "    elif k == ord(\"q\"):\n",
    "        break\n",
    "        \n",
    "cap.release()\n",
    "cv2.destroyAllWindows()\n",
    "print(\"Finished collecting images.\")"
   ]
  },
  {
   "cell_type": "markdown",
   "metadata": {},
   "source": [
    "# 5. Use Tesseract for OCR"
   ]
  },
  {
   "cell_type": "markdown",
   "metadata": {},
   "source": [
    "Note: Tesseract should be installed for this to work. For the Windows (which is what I use) installer, click the following link: https://github.com/UB-Mannheim/tesseract/wiki"
   ]
  },
  {
   "cell_type": "code",
   "execution_count": 20,
   "metadata": {},
   "outputs": [
    {
     "name": "stdout",
     "output_type": "stream",
     "text": [
      "Requirement already satisfied: pytesseract in c:\\users\\tim\\desktop\\python\\document-translator\\doctr\\lib\\site-packages (0.3.7)\n",
      "Requirement already satisfied: Pillow in c:\\users\\tim\\desktop\\python\\document-translator\\doctr\\lib\\site-packages (from pytesseract) (8.2.0)\n"
     ]
    }
   ],
   "source": [
    "!pip install pytesseract"
   ]
  },
  {
   "cell_type": "code",
   "execution_count": 21,
   "metadata": {},
   "outputs": [],
   "source": [
    "# Import pytesseract\n",
    "import pytesseract"
   ]
  },
  {
   "cell_type": "code",
   "execution_count": 22,
   "metadata": {},
   "outputs": [],
   "source": [
    "tesseract_path = r\"C:\\Program Files\\Tesseract-OCR\\tesseract.exe\"\n",
    "pytesseract.pytesseract.tesseract_cmd = tesseract_path"
   ]
  },
  {
   "cell_type": "code",
   "execution_count": 26,
   "metadata": {},
   "outputs": [],
   "source": [
    "for pg in os.listdir(path_collection):\n",
    "    pagepath = os.path.join(path_collection, pg)\n",
    "    page = cv2.imread(pagepath)\n",
    "    cv2.imshow(pg, page)\n",
    "    cv2.waitKey(0)"
   ]
  },
  {
   "cell_type": "code",
   "execution_count": 27,
   "metadata": {},
   "outputs": [],
   "source": [
    "text = pytesseract.image_to_string(page)"
   ]
  },
  {
   "cell_type": "code",
   "execution_count": 28,
   "metadata": {},
   "outputs": [
    {
     "data": {
      "text/plain": [
       "'M\\nONTE Aconcagua\\n\\nYo he visto, yo he visto\\nmi monte Aconcagua.\\nMe dura en los ojos\\n\\nla blanca Ilamarada\\n\\ny como ya lo vi\\n\\nla muerte no me mata.\\n\\nLe crecen los espinos\\n\\nen la primer jornada,\\n\\nlo abrazan bien los boldos\\nde reveses de plata,\\n\\na mas y mas que sube\\n\\nel pecho se le aclara\\narrebatado Elias,\\n\\njElohim Aconcagua}\\n\\nManda la noche grande,\\nsuelta las mafianas,\\n\\nse esconde en nubes,\\n\\nse borra, se acaba\\n\\ny sigue pastoreando\\n\\ndetras de la nubada\\n\\namor dulce y tremen\\nMonte Aconcagua:\\n\\ndo,\\n\\n122\\n\\x0c'"
      ]
     },
     "execution_count": 28,
     "metadata": {},
     "output_type": "execute_result"
    }
   ],
   "source": [
    "text"
   ]
  },
  {
   "cell_type": "code",
   "execution_count": null,
   "metadata": {},
   "outputs": [],
   "source": []
  }
 ],
 "metadata": {
  "kernelspec": {
   "display_name": "doctr",
   "language": "python",
   "name": "doctr"
  },
  "language_info": {
   "codemirror_mode": {
    "name": "ipython",
    "version": 3
   },
   "file_extension": ".py",
   "mimetype": "text/x-python",
   "name": "python",
   "nbconvert_exporter": "python",
   "pygments_lexer": "ipython3",
   "version": "3.7.4"
  }
 },
 "nbformat": 4,
 "nbformat_minor": 2
}
