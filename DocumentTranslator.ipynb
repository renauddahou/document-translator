{
 "cells": [
  {
   "cell_type": "markdown",
   "metadata": {},
   "source": [
    "# 1.  Import Dependencies"
   ]
  },
  {
   "cell_type": "code",
   "execution_count": null,
   "metadata": {},
   "outputs": [],
   "source": [
    "!pip install opencv-python"
   ]
  },
  {
   "cell_type": "code",
   "execution_count": 2,
   "metadata": {},
   "outputs": [],
   "source": [
    "# Import opencv, os and time\n",
    "import cv2\n",
    "import os\n",
    "import time"
   ]
  },
  {
   "cell_type": "markdown",
   "metadata": {},
   "source": [
    "# 2. Define Document Properties"
   ]
  },
  {
   "cell_type": "code",
   "execution_count": 3,
   "metadata": {},
   "outputs": [
    {
     "name": "stdout",
     "output_type": "stream",
     "text": [
      "Document name: TestBook\n",
      "Starting page: 9\n"
     ]
    }
   ],
   "source": [
    "# Give info to start collecting images from document\n",
    "doc_name = input(\"Document name: \")\n",
    "start_page = input(\"Starting page: \")"
   ]
  },
  {
   "cell_type": "markdown",
   "metadata": {},
   "source": [
    "# 3. Setup Folders"
   ]
  },
  {
   "cell_type": "code",
   "execution_count": 4,
   "metadata": {},
   "outputs": [],
   "source": [
    "# Set path to save images from document\n",
    "IMAGES_PATH = os.path.join(\"workspace\", \"documents_to_translate\")"
   ]
  },
  {
   "cell_type": "code",
   "execution_count": 5,
   "metadata": {},
   "outputs": [],
   "source": [
    "# Setup folder structure for chosen document\n",
    "if not os.path.exists(IMAGES_PATH):\n",
    "    !mkdir {IMAGES_PATH}\n",
    "path = os.path.join(IMAGES_PATH, doc_name)\n",
    "path_collection = os.path.join(path, \"collection\")\n",
    "path_translation = os.path.join(path, \"translation\")\n",
    "if not os.path.exists(path):\n",
    "    !mkdir {path}\n",
    "if not os.path.exists(path_collection):\n",
    "    !mkdir {path_collection}\n",
    "if not os.path.exists(path_translation):\n",
    "    !mkdir {path_translation}"
   ]
  },
  {
   "cell_type": "markdown",
   "metadata": {},
   "source": [
    "# 4. Collect Images from Document"
   ]
  },
  {
   "cell_type": "code",
   "execution_count": 17,
   "metadata": {},
   "outputs": [
    {
     "name": "stdout",
     "output_type": "stream",
     "text": [
      "Automatic or manual image collection? Press \"m\" for manual and \"a\" for automatic. a\n",
      "How many seconds do you need per page? 5\n"
     ]
    }
   ],
   "source": [
    "am_switch = input(\"Automatic or manual image collection? Press \\\"m\\\" for manual and \\\"a\\\" for automatic. \")\n",
    "while not am_switch in [\"m\", \"a\"]:\n",
    "    am_switch = input(\"Invalid letter, please choose \\\"a\\\" or \\\"m\\\". \")\n",
    "if am_switch == \"a\":\n",
    "    seconds_per_page = input(\"How many seconds do you need per page? \")"
   ]
  },
  {
   "cell_type": "code",
   "execution_count": 22,
   "metadata": {
    "scrolled": true
   },
   "outputs": [
    {
     "name": "stdout",
     "output_type": "stream",
     "text": [
      "Starting image collection, get ready...\n",
      "Collecting page number 9...\n",
      "Page 9 saved!\n",
      "Collecting page number 10...\n",
      "Page 10 saved!\n",
      "Collecting page number 11...\n",
      "Page 11 saved!\n",
      "Collecting page number 12...\n",
      "Page 12 saved!\n",
      "Collecting page number 13...\n",
      "Page 13 saved!\n",
      "Collecting page number 14...\n",
      "Page 14 saved!\n",
      "Finished collecting images.\n"
     ]
    }
   ],
   "source": [
    "current_page = int(start_page)\n",
    "\n",
    "address = \"http://192.168.178.32:8080/video\"\n",
    "    \n",
    "if am_switch == \"a\":\n",
    "    print(\"Starting image collection, get ready...\")\n",
    "    time.sleep(5)\n",
    "    while True:\n",
    "        k = cv2.waitKey(1) & 0xFF\n",
    "        if k == ord(\"q\"):\n",
    "            break\n",
    "\n",
    "        cap = cv2.VideoCapture(0)\n",
    "        cap.open(address)\n",
    "        ret, frame = cap.read()\n",
    "        cv2.imshow('frame', frame)\n",
    "        print(f\"Collecting page number {current_page}...\")\n",
    "        time.sleep(int(seconds_per_page))\n",
    "        pagenum = str(current_page).zfill(5)\n",
    "        imgname = os.path.join(path_collection, f\"{doc_name}_{pagenum}.jpg\")\n",
    "        cv2.imwrite(imgname, frame)\n",
    "        print(f\"Page {current_page} saved!\")\n",
    "        current_page += 1\n",
    "    \n",
    "#     elif am_switch == \"m\":\n",
    "#         pagenum = str(current_page).zfill(5)\n",
    "#         imgname = os.path.join(path_collection, f\"{doc_name}_{pagenum}.jpg\")\n",
    "#         if k == ord(\"p\"):\n",
    "#             cv2.imwrite(imgname, frame)\n",
    "#             print(f\"Page {current_page} saved!\")\n",
    "#             current_page += 1\n",
    "\n",
    "#     k = cv2.waitKey(1) & 0xFF\n",
    "#     if k == ord(\"q\"):\n",
    "#         break\n",
    "        \n",
    "cap.release()\n",
    "cv2.destroyAllWindows()\n",
    "print(\"Finished collecting images.\")"
   ]
  },
  {
   "cell_type": "code",
   "execution_count": null,
   "metadata": {},
   "outputs": [],
   "source": []
  }
 ],
 "metadata": {
  "kernelspec": {
   "display_name": "doctr",
   "language": "python",
   "name": "doctr"
  },
  "language_info": {
   "codemirror_mode": {
    "name": "ipython",
    "version": 3
   },
   "file_extension": ".py",
   "mimetype": "text/x-python",
   "name": "python",
   "nbconvert_exporter": "python",
   "pygments_lexer": "ipython3",
   "version": "3.7.4"
  }
 },
 "nbformat": 4,
 "nbformat_minor": 2
}
