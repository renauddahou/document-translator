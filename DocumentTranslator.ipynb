{
 "cells": [
  {
   "cell_type": "markdown",
   "metadata": {},
   "source": [
    "# 1.  Import Dependencies"
   ]
  },
  {
   "cell_type": "code",
   "execution_count": null,
   "metadata": {},
   "outputs": [],
   "source": [
    "!pip install opencv-python"
   ]
  },
  {
   "cell_type": "code",
   "execution_count": 1,
   "metadata": {},
   "outputs": [],
   "source": [
    "# Import opencv, os and time\n",
    "import cv2\n",
    "import os\n",
    "import time"
   ]
  },
  {
   "cell_type": "markdown",
   "metadata": {},
   "source": [
    "# 2. Define Document Properties"
   ]
  },
  {
   "cell_type": "code",
   "execution_count": 2,
   "metadata": {},
   "outputs": [
    {
     "name": "stdout",
     "output_type": "stream",
     "text": [
      "Document name: TestBook\n",
      "Starting page: 9\n"
     ]
    }
   ],
   "source": [
    "# Give info to start collecting images from document\n",
    "doc_name = input(\"Document name: \")\n",
    "start_page = input(\"Starting page: \")"
   ]
  },
  {
   "cell_type": "markdown",
   "metadata": {},
   "source": [
    "# 3. Setup Folders"
   ]
  },
  {
   "cell_type": "code",
   "execution_count": 3,
   "metadata": {},
   "outputs": [],
   "source": [
    "# Set path to save images from document\n",
    "IMAGES_PATH = os.path.join(\"workspace\", \"documents_to_translate\")"
   ]
  },
  {
   "cell_type": "code",
   "execution_count": 4,
   "metadata": {},
   "outputs": [],
   "source": [
    "# Setup folder structure for chosen document\n",
    "if not os.path.exists(IMAGES_PATH):\n",
    "    !mkdir {IMAGES_PATH}\n",
    "path = os.path.join(IMAGES_PATH, doc_name)\n",
    "path_collection = os.path.join(path, \"collection\")\n",
    "path_translation = os.path.join(path, \"translation\")\n",
    "if not os.path.exists(path):\n",
    "    !mkdir {path}\n",
    "if not os.path.exists(path_collection):\n",
    "    !mkdir {path_collection}\n",
    "if not os.path.exists(path_translation):\n",
    "    !mkdir {path_translation}"
   ]
  },
  {
   "cell_type": "markdown",
   "metadata": {},
   "source": [
    "# 4. Collect Images from Document"
   ]
  },
  {
   "cell_type": "code",
   "execution_count": 9,
   "metadata": {
    "scrolled": true
   },
   "outputs": [
    {
     "name": "stdout",
     "output_type": "stream",
     "text": [
      "Press \"p\" to collect page...\n",
      "Collecting page 9...\n"
     ]
    },
    {
     "ename": "KeyboardInterrupt",
     "evalue": "",
     "output_type": "error",
     "traceback": [
      "\u001b[1;31m---------------------------------------------------------------------------\u001b[0m",
      "\u001b[1;31mKeyboardInterrupt\u001b[0m                         Traceback (most recent call last)",
      "\u001b[1;32m<ipython-input-9-95ac967f8d41>\u001b[0m in \u001b[0;36m<module>\u001b[1;34m\u001b[0m\n\u001b[0;32m     11\u001b[0m \u001b[1;32mwhile\u001b[0m \u001b[1;32mTrue\u001b[0m\u001b[1;33m:\u001b[0m\u001b[1;33m\u001b[0m\u001b[1;33m\u001b[0m\u001b[0m\n\u001b[0;32m     12\u001b[0m     \u001b[0mcap\u001b[0m \u001b[1;33m=\u001b[0m \u001b[0mcv2\u001b[0m\u001b[1;33m.\u001b[0m\u001b[0mVideoCapture\u001b[0m\u001b[1;33m(\u001b[0m\u001b[1;36m0\u001b[0m\u001b[1;33m)\u001b[0m\u001b[1;33m\u001b[0m\u001b[1;33m\u001b[0m\u001b[0m\n\u001b[1;32m---> 13\u001b[1;33m     \u001b[0mcap\u001b[0m\u001b[1;33m.\u001b[0m\u001b[0mopen\u001b[0m\u001b[1;33m(\u001b[0m\u001b[0maddress\u001b[0m\u001b[1;33m)\u001b[0m\u001b[1;33m\u001b[0m\u001b[1;33m\u001b[0m\u001b[0m\n\u001b[0m\u001b[0;32m     14\u001b[0m     \u001b[0mret\u001b[0m\u001b[1;33m,\u001b[0m \u001b[0mframe\u001b[0m \u001b[1;33m=\u001b[0m \u001b[0mcap\u001b[0m\u001b[1;33m.\u001b[0m\u001b[0mread\u001b[0m\u001b[1;33m(\u001b[0m\u001b[1;33m)\u001b[0m\u001b[1;33m\u001b[0m\u001b[1;33m\u001b[0m\u001b[0m\n\u001b[0;32m     15\u001b[0m     \u001b[1;31m# Resize frame in order to fit on laptop screen, can be altered for higher quality image collection\u001b[0m\u001b[1;33m\u001b[0m\u001b[1;33m\u001b[0m\u001b[1;33m\u001b[0m\u001b[0m\n",
      "\u001b[1;31mKeyboardInterrupt\u001b[0m: "
     ]
    }
   ],
   "source": [
    "# Address for IP Webcam, in order to use phone as webcam for higher resolution images\n",
    "address = \"http://192.168.178.32:8080/video\"\n",
    "\n",
    "# Set start page for correct page numbering\n",
    "current_page = int(start_page)\n",
    "\n",
    "print(\"Press \\\"p\\\" to collect page, press \\\"q\\\" when ready...\")\n",
    "print(f\"Collecting page {current_page}...\")\n",
    "\n",
    "# While loop for webcam streaming and image collection\n",
    "while True:\n",
    "    cap = cv2.VideoCapture(0)\n",
    "    cap.open(address)\n",
    "    ret, frame = cap.read()\n",
    "    # Resize frame in order to fit on laptop screen, can be altered for higher quality image collection\n",
    "    frame = cv2.resize(frame, (540, 960))\n",
    "    cv2.imshow('Webcam feed', frame)\n",
    "    # Set pagenum in order to save with correct numbering\n",
    "    pagenum = str(current_page).zfill(5)\n",
    "    # Set imgname for current page\n",
    "    imgname = os.path.join(path_collection, f\"{doc_name}_{pagenum}.jpg\")\n",
    "    # Give options for keystrokes - \"p\" for printing/collecting current frame, \"q\" to quit and break off loop\n",
    "    k = cv2.waitKey(1) & 0xFF\n",
    "    if k == ord(\"p\"):\n",
    "        cv2.imwrite(imgname, frame)\n",
    "        print(f\"Page {current_page} saved!\")\n",
    "        current_page += 1\n",
    "        # Print which page to collect next\n",
    "        print(f\"Collecting page {current_page}...\")\n",
    "        \n",
    "    elif k == ord(\"q\"):\n",
    "        break\n",
    "        \n",
    "cap.release()\n",
    "cv2.destroyAllWindows()\n",
    "print(\"Finished collecting images.\")"
   ]
  },
  {
   "cell_type": "code",
   "execution_count": null,
   "metadata": {},
   "outputs": [],
   "source": []
  }
 ],
 "metadata": {
  "kernelspec": {
   "display_name": "doctr",
   "language": "python",
   "name": "doctr"
  },
  "language_info": {
   "codemirror_mode": {
    "name": "ipython",
    "version": 3
   },
   "file_extension": ".py",
   "mimetype": "text/x-python",
   "name": "python",
   "nbconvert_exporter": "python",
   "pygments_lexer": "ipython3",
   "version": "3.7.4"
  }
 },
 "nbformat": 4,
 "nbformat_minor": 2
}
