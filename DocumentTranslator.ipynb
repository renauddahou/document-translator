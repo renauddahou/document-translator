{
 "cells": [
  {
   "cell_type": "markdown",
   "metadata": {},
   "source": [
    "# 1.  Import Dependencies"
   ]
  },
  {
   "cell_type": "code",
   "execution_count": null,
   "metadata": {},
   "outputs": [],
   "source": [
    "!pip install opencv-python"
   ]
  },
  {
   "cell_type": "code",
   "execution_count": 1,
   "metadata": {},
   "outputs": [],
   "source": [
    "# Import opencv, os and time\n",
    "import cv2\n",
    "import os\n",
    "import time"
   ]
  },
  {
   "cell_type": "markdown",
   "metadata": {},
   "source": [
    "# 2. Define Document Properties"
   ]
  },
  {
   "cell_type": "code",
   "execution_count": 2,
   "metadata": {},
   "outputs": [
    {
     "name": "stdout",
     "output_type": "stream",
     "text": [
      "Document name: PoemadeChile\n",
      "Starting page: 9\n"
     ]
    }
   ],
   "source": [
    "# Give info to start collecting images from document\n",
    "doc_name = input(\"Document name: \")\n",
    "start_page = input(\"Starting page: \")"
   ]
  },
  {
   "cell_type": "markdown",
   "metadata": {},
   "source": [
    "# 3. Setup Folders"
   ]
  },
  {
   "cell_type": "code",
   "execution_count": 3,
   "metadata": {},
   "outputs": [],
   "source": [
    "# Set path to save images from document\n",
    "document_path = os.path.join(\"workspace\", \"documents_to_translate\")"
   ]
  },
  {
   "cell_type": "code",
   "execution_count": 4,
   "metadata": {},
   "outputs": [],
   "source": [
    "# Setup folder structure for chosen document\n",
    "if not os.path.exists(document_path):\n",
    "    !mkdir {document_path}\n",
    "path = os.path.join(document_path, doc_name)\n",
    "path_collection = os.path.join(path, \"collection\")\n",
    "path_translation = os.path.join(path, \"translation\")\n",
    "if not os.path.exists(path):\n",
    "    !mkdir {path}\n",
    "if not os.path.exists(path_collection):\n",
    "    !mkdir {path_collection}\n",
    "if not os.path.exists(path_translation):\n",
    "    !mkdir {path_translation}"
   ]
  },
  {
   "cell_type": "markdown",
   "metadata": {},
   "source": [
    "# 4. Collect Images from Document"
   ]
  },
  {
   "cell_type": "code",
   "execution_count": 19,
   "metadata": {
    "scrolled": true
   },
   "outputs": [
    {
     "name": "stdout",
     "output_type": "stream",
     "text": [
      "Press \"p\" to collect page, press \"q\" when ready...\n",
      "Collecting page 122...\n",
      "Page 122 saved!\n",
      "Collecting page 123...\n",
      "Page 123 saved!\n",
      "Collecting page 124...\n",
      "Finished collecting images.\n"
     ]
    }
   ],
   "source": [
    "# Address for IP Webcam, in order to use phone as webcam for higher resolution images\n",
    "address = \"http://192.168.178.32:8080/video\"\n",
    "\n",
    "# Set start page for correct page numbering\n",
    "current_page = int(start_page)\n",
    "\n",
    "print(\"Press \\\"p\\\" to collect page, press \\\"q\\\" when ready...\")\n",
    "print(f\"Collecting page {current_page}...\")\n",
    "\n",
    "# While loop for webcam streaming and image collection\n",
    "while True:\n",
    "    cap = cv2.VideoCapture(0)\n",
    "    cap.open(address)\n",
    "    ret, frame = cap.read()\n",
    "    # Resize frame in order to fit on laptop screen, can be altered for higher quality image collection\n",
    "    frame = cv2.resize(frame, (540, 960))\n",
    "    cv2.imshow('Webcam feed', frame)\n",
    "    # Set pagenum in order to save with correct numbering\n",
    "    pagenum = str(current_page).zfill(5)\n",
    "    # Set imgname for current page\n",
    "    imgname = os.path.join(path_collection, f\"{doc_name}_{pagenum}.jpg\")\n",
    "    # Give options for keystrokes - \"p\" for printing/collecting current frame, \"q\" to quit and break off loop\n",
    "    k = cv2.waitKey(1) & 0xFF\n",
    "    if k == ord(\"p\"):\n",
    "        cv2.imwrite(imgname, frame)\n",
    "        print(f\"Page {current_page} saved!\")\n",
    "        current_page += 1\n",
    "        # Print which page to collect next\n",
    "        print(f\"Collecting page {current_page}...\")\n",
    "        \n",
    "    elif k == ord(\"q\"):\n",
    "        break\n",
    "        \n",
    "cap.release()\n",
    "cv2.destroyAllWindows()\n",
    "print(\"Finished collecting images.\")"
   ]
  },
  {
   "cell_type": "markdown",
   "metadata": {},
   "source": [
    "# 5. Use Tesseract for OCR"
   ]
  },
  {
   "cell_type": "markdown",
   "metadata": {},
   "source": [
    "Note: Tesseract should be installed for this to work. For the Windows (which is what I use) installer, click the following link: https://github.com/UB-Mannheim/tesseract/wiki"
   ]
  },
  {
   "cell_type": "code",
   "execution_count": 20,
   "metadata": {},
   "outputs": [
    {
     "name": "stdout",
     "output_type": "stream",
     "text": [
      "Requirement already satisfied: pytesseract in c:\\users\\tim\\desktop\\python\\document-translator\\doctr\\lib\\site-packages (0.3.7)\n",
      "Requirement already satisfied: Pillow in c:\\users\\tim\\desktop\\python\\document-translator\\doctr\\lib\\site-packages (from pytesseract) (8.2.0)\n"
     ]
    }
   ],
   "source": [
    "!pip install pytesseract"
   ]
  },
  {
   "cell_type": "code",
   "execution_count": 11,
   "metadata": {},
   "outputs": [],
   "source": [
    "# Import pytesseract\n",
    "import pytesseract"
   ]
  },
  {
   "cell_type": "code",
   "execution_count": 12,
   "metadata": {},
   "outputs": [],
   "source": [
    "tesseract_path = r\"C:\\Program Files\\Tesseract-OCR\\tesseract.exe\"\n",
    "pytesseract.pytesseract.tesseract_cmd = tesseract_path"
   ]
  },
  {
   "cell_type": "code",
   "execution_count": 13,
   "metadata": {},
   "outputs": [],
   "source": [
    "for pg in os.listdir(path_collection):\n",
    "    pagepath = os.path.join(path_collection, pg)\n",
    "    page = cv2.imread(pagepath)\n",
    "    cv2.imshow(pg, page)\n",
    "    gray = cv2.cvtColor(page, cv2.COLOR_BGR2GRAY)\n",
    "    adaptive_threshold = cv2.adaptiveThreshold(gray, 255, cv2.ADAPTIVE_THRESH_GAUSSIAN_C, cv2.THRESH_BINARY, 85, 11)\n",
    "    cv2.waitKey(0)"
   ]
  },
  {
   "cell_type": "code",
   "execution_count": 14,
   "metadata": {},
   "outputs": [],
   "source": [
    "text = pytesseract.image_to_string(adaptive_threshold)"
   ]
  },
  {
   "cell_type": "code",
   "execution_count": 15,
   "metadata": {},
   "outputs": [
    {
     "name": "stdout",
     "output_type": "stream",
     "text": [
      ">\n",
      "\n",
      "Monte Aconcagua\n",
      "\n",
      "Yo he visto, yo he visto\n",
      "mi monte Aconcagua.\n",
      "Me dura en los ojos\n",
      "la blanca llamarada\n",
      "\n",
      "y como ya lo vi\n",
      "\n",
      "la muerte no me mata.\n",
      "\n",
      "Le crecen los espinos\n",
      "\n",
      "en la primer jornada,\n",
      "\n",
      "lo abrazan bien los boldos\n",
      "de reveses de plata,\n",
      "\n",
      "a mas y mas que sube\n",
      "\n",
      "el pecho se le aclara\n",
      "arrebatado Elias,\n",
      "\n",
      "Elohim Aconcagua!\n",
      "\n",
      "Manda la noche grande,\n",
      "suelta las mafianas,\n",
      "\n",
      "se esconde en nubes,\n",
      "\n",
      "se borra, se acaba\n",
      "\n",
      "y sigue pastoreando\n",
      "detrds de la nubada\n",
      "amor dulce ¥ tremendo,\n",
      "Monte Aconcagua\n",
      "\n",
      " \n",
      "\n",
      "aa\n",
      "\f",
      "\n"
     ]
    }
   ],
   "source": [
    "print(text)"
   ]
  },
  {
   "cell_type": "markdown",
   "metadata": {},
   "source": [
    "# 6. Translate"
   ]
  },
  {
   "cell_type": "code",
   "execution_count": 64,
   "metadata": {
    "scrolled": false
   },
   "outputs": [
    {
     "name": "stdout",
     "output_type": "stream",
     "text": [
      "Collecting google_trans_new\n",
      "  Downloading google_trans_new-1.1.9-py3-none-any.whl (9.2 kB)\n",
      "Installing collected packages: google-trans-new\n",
      "Successfully installed google-trans-new-1.1.9\n"
     ]
    }
   ],
   "source": [
    "!pip install google_trans_new"
   ]
  },
  {
   "cell_type": "code",
   "execution_count": 16,
   "metadata": {},
   "outputs": [],
   "source": [
    "from google_trans_new import google_translator"
   ]
  },
  {
   "cell_type": "code",
   "execution_count": 19,
   "metadata": {},
   "outputs": [
    {
     "data": {
      "text/plain": [
       "-1"
      ]
     },
     "execution_count": 19,
     "metadata": {},
     "output_type": "execute_result"
    }
   ],
   "source": [
    "cv2.imshow(pg, page)\n",
    "cv2.waitKey(0)"
   ]
  },
  {
   "cell_type": "code",
   "execution_count": 18,
   "metadata": {
    "scrolled": false
   },
   "outputs": [
    {
     "name": "stdout",
     "output_type": "stream",
     "text": [
      ">  Mount Aconcagua.  I've seen, I've seen  My Mount Aconcagua.  It lasts me in the eyes  The white flare  and as I already saw it  Death does not kill me.  The thorns grow  In the first day,  They hug the Bolds well  of silver setbacks,  to more and more that goes up  the chest is clarified  ELIAS,  Elohim Aconcagua!  Send the big night,  release the mafiians,  It is hidden in clouds,  It is erased, it's over  And keep grazing  detachment  love sweet ¥ tremendous,  Mount Aconcagua.  AA. \n"
     ]
    }
   ],
   "source": [
    "translator = google_translator()\n",
    "print(translator.translate(text))"
   ]
  },
  {
   "cell_type": "code",
   "execution_count": null,
   "metadata": {},
   "outputs": [],
   "source": []
  }
 ],
 "metadata": {
  "kernelspec": {
   "display_name": "doctr",
   "language": "python",
   "name": "doctr"
  },
  "language_info": {
   "codemirror_mode": {
    "name": "ipython",
    "version": 3
   },
   "file_extension": ".py",
   "mimetype": "text/x-python",
   "name": "python",
   "nbconvert_exporter": "python",
   "pygments_lexer": "ipython3",
   "version": "3.7.4"
  }
 },
 "nbformat": 4,
 "nbformat_minor": 2
}
